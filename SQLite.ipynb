{
 "cells": [
  {
   "cell_type": "markdown",
   "id": "928cd62c-d17d-423e-81ad-9628755d3ca2",
   "metadata": {},
   "source": [
    "# Create & Access SQLite database using Python\n",
    "\n",
    "##### Author: Kliz John Andrei Millares\n",
    "\n",
    "## Objectives\n",
    "\n",
    "In this notebook I will:\n",
    "\n",
    "*   Create a database\n",
    "*   Create a table\n",
    "*   Insert data into the table\n",
    "*   Query data from the table\n",
    "*   Retrieve the result set into a pandas dataframe\n",
    "*   Close the database connection\n"
   ]
  },
  {
   "cell_type": "markdown",
   "id": "45009a05-b001-41e5-bfcd-51a4171a5fa6",
   "metadata": {},
   "source": [
    "SQLite is a software library that implements a self-contained, serverless, zero-configuration, transactional SQL database engine. SQLite is the most widely deployed SQL database engine in the world.\n",
    "\n",
    "## 1. Create database using SQLite\n"
   ]
  },
  {
   "cell_type": "code",
   "execution_count": 3,
   "id": "ac93d146-affc-4a1a-83fa-31447653238b",
   "metadata": {},
   "outputs": [],
   "source": [
    "#Install & load sqlite3\n",
    "#!pip install sqlite3\n",
    "import sqlite3"
   ]
  },
  {
   "cell_type": "code",
   "execution_count": 5,
   "id": "2717c99e-4b31-4e6d-aff8-72e09cbc6224",
   "metadata": {},
   "outputs": [],
   "source": [
    "# Connecting to sqlite\n",
    "# connection object\n",
    "conn = sqlite3.connect('INSTRUCTOR.db')"
   ]
  },
  {
   "cell_type": "markdown",
   "id": "d8caee72-b209-4191-b142-b5c83fb684f6",
   "metadata": {},
   "source": [
    "Cursor class is an instance using which you can invoke methods that execute SQLite statements, fetch data from the result sets of the queries. You can create Cursor object using the cursor() method of the Connection object/class.\n"
   ]
  },
  {
   "cell_type": "code",
   "execution_count": 6,
   "id": "1e491652-85ec-485d-bab8-9f5ba38e83ef",
   "metadata": {},
   "outputs": [],
   "source": [
    "# cursor object\n",
    "cursor_obj = conn.cursor()"
   ]
  },
  {
   "cell_type": "markdown",
   "id": "4af56447-9829-4c38-ba79-24f900baeeff",
   "metadata": {},
   "source": [
    "## 2. Create a table in the database"
   ]
  },
  {
   "cell_type": "markdown",
   "id": "222dae47-4cc7-4f42-8a5f-6a2a0ee87906",
   "metadata": {},
   "source": [
    "Before creating a table, I will check if the table already exists or not. To drop the table from a database, I use the **DROP** query. A cursor is an object that helps execute the query and fetch the records from the database.\n"
   ]
  },
  {
   "cell_type": "code",
   "execution_count": 7,
   "id": "e873d095-72c6-44f1-a1a2-8026e6ab9d4d",
   "metadata": {},
   "outputs": [
    {
     "data": {
      "text/plain": [
       "<sqlite3.Cursor at 0x24f98836940>"
      ]
     },
     "execution_count": 7,
     "metadata": {},
     "output_type": "execute_result"
    }
   ],
   "source": [
    "# Drop the table if already exists.\n",
    "cursor_obj.execute(\"DROP TABLE IF EXISTS INSTRUCTOR\")"
   ]
  },
  {
   "cell_type": "code",
   "execution_count": 9,
   "id": "ccf09735-f2db-4719-81e5-01a7c6cbd7bb",
   "metadata": {},
   "outputs": [
    {
     "name": "stdout",
     "output_type": "stream",
     "text": [
      "Table is Ready\n"
     ]
    }
   ],
   "source": [
    "#Lets create a table\n",
    "table = \"\"\" CREATE TABLE IF NOT EXISTS INSTRUCTOR(\n",
    "            ID INTEGER PRIMARY KEY NOT NULL,\n",
    "            FNAME VARCHAR(20),\n",
    "            LNAME VARCHAR(20),\n",
    "            CITY VARCHAR(20),\n",
    "            POSTAL_CODE CHAR(4)); \n",
    "        \"\"\"\n",
    "\n",
    "cursor_obj.execute(table)\n",
    "\n",
    "print(\"Table is Ready\")"
   ]
  },
  {
   "cell_type": "markdown",
   "id": "c04f7324-fb3b-437f-a647-306bea396cb0",
   "metadata": {},
   "source": [
    "## 3. Insert data into the table"
   ]
  },
  {
   "cell_type": "code",
   "execution_count": 10,
   "id": "7c7807a4-9e76-4145-9a0f-de186ba23517",
   "metadata": {},
   "outputs": [
    {
     "data": {
      "text/plain": [
       "<sqlite3.Cursor at 0x24f98836940>"
      ]
     },
     "execution_count": 10,
     "metadata": {},
     "output_type": "execute_result"
    }
   ],
   "source": [
    "cursor_obj.execute('''insert into INSTRUCTOR values (1, 'Kliz Andrei', 'Millares', 'Makati', '1550')''')"
   ]
  },
  {
   "cell_type": "code",
   "execution_count": 14,
   "id": "ac7fe49c-cbab-49b5-86ff-66d4b7e96bf3",
   "metadata": {},
   "outputs": [
    {
     "data": {
      "text/plain": [
       "<sqlite3.Cursor at 0x24f98836940>"
      ]
     },
     "execution_count": 14,
     "metadata": {},
     "output_type": "execute_result"
    }
   ],
   "source": [
    "cursor_obj.execute('''insert into INSTRUCTOR values (2, 'Nicole', 'Duenas', 'Manila', '1104'), \n",
    "                                                    (3, 'Amiel', 'Catibay', 'Olongapo', '1225'),\n",
    "                                                    (4, 'Norman', 'Santiago', 'Quezon City', '1403'),\n",
    "                                                    (5, 'Leni', 'Marcos', 'Paranaque', '1206');\n",
    "                                                    ''')"
   ]
  },
  {
   "cell_type": "markdown",
   "id": "6eb82e8a-990f-45d8-b3a2-9656c23cbb82",
   "metadata": {},
   "source": [
    "## 4. Query data in the table"
   ]
  },
  {
   "cell_type": "code",
   "execution_count": 17,
   "id": "cc97a5ab-1999-47cc-aa80-f3c4edbd6b4c",
   "metadata": {},
   "outputs": [
    {
     "name": "stdout",
     "output_type": "stream",
     "text": [
      "All the data\n",
      "(1, 'Kliz Andrei', 'Millares', 'Makati', '1550')\n",
      "(2, 'Nicole', 'Duenas', 'Manila', '1104')\n",
      "(3, 'Amiel', 'Catibay', 'Olongapo', '1225')\n",
      "(4, 'Norman', 'Santiago', 'Quezon City', '1403')\n",
      "(5, 'Leni', 'Marcos', 'Paranaque', '1206')\n"
     ]
    }
   ],
   "source": [
    "statement = '''SELECT * FROM INSTRUCTOR'''\n",
    "cursor_obj.execute(statement)\n",
    "\n",
    "print(\"All the data\")\n",
    "output_all = cursor_obj.fetchall()\n",
    "for row_all in output_all:\n",
    "  print(row_all)"
   ]
  },
  {
   "cell_type": "code",
   "execution_count": 18,
   "id": "51401ad5-3999-4587-82bf-507a1e64354f",
   "metadata": {},
   "outputs": [
    {
     "name": "stdout",
     "output_type": "stream",
     "text": [
      "All the data\n",
      "(1, 'Kliz Andrei', 'Millares', 'Makati', '1550')\n",
      "(2, 'Nicole', 'Duenas', 'Manila', '1104')\n"
     ]
    }
   ],
   "source": [
    "## Fetch few rows from the table\n",
    "statement = '''SELECT * FROM INSTRUCTOR'''\n",
    "cursor_obj.execute(statement)\n",
    "  \n",
    "print(\"All the data\")\n",
    "# If you want to fetch few rows from the table we use fetchmany(numberofrows) and mention the number how many rows you want to fetch\n",
    "output_many = cursor_obj.fetchmany(2) \n",
    "for row_many in output_many:\n",
    "  print(row_many)"
   ]
  },
  {
   "cell_type": "code",
   "execution_count": 20,
   "id": "512d2b79-529d-4fd0-b8cd-dc34943b9b1d",
   "metadata": {},
   "outputs": [
    {
     "name": "stdout",
     "output_type": "stream",
     "text": [
      "All the data\n",
      "('Kliz Andrei',)\n",
      "('Nicole',)\n",
      "('Amiel',)\n",
      "('Norman',)\n",
      "('Leni',)\n"
     ]
    }
   ],
   "source": [
    "# Fetch only First name from the table\n",
    "statement = '''SELECT FNAME FROM INSTRUCTOR'''\n",
    "cursor_obj.execute(statement)\n",
    "  \n",
    "print(\"All the data\")\n",
    "output_column = cursor_obj.fetchall()\n",
    "for fetch in output_column:\n",
    "  print(fetch)"
   ]
  },
  {
   "cell_type": "markdown",
   "id": "b04cf661-09c1-4cc9-a826-050cd67bf244",
   "metadata": {},
   "source": [
    "## 5. Update statement"
   ]
  },
  {
   "cell_type": "code",
   "execution_count": 21,
   "id": "f75fb082-9468-4355-9d53-d3025c7c7c60",
   "metadata": {},
   "outputs": [
    {
     "data": {
      "text/plain": [
       "<sqlite3.Cursor at 0x24f98836940>"
      ]
     },
     "execution_count": 21,
     "metadata": {},
     "output_type": "execute_result"
    }
   ],
   "source": [
    "query_update='''update INSTRUCTOR set CITY='Taguig' where FNAME=\"Kliz Andrei\"'''\n",
    "cursor_obj.execute(query_update)"
   ]
  },
  {
   "cell_type": "code",
   "execution_count": 24,
   "id": "f397f7b0-c5d3-42bd-b2cd-a9b1dc0a61e0",
   "metadata": {},
   "outputs": [
    {
     "name": "stdout",
     "output_type": "stream",
     "text": [
      "All the data\n",
      "(1, 'Kliz Andrei', 'Millares', 'Taguig', '1550')\n",
      "(2, 'Nicole', 'Duenas', 'Manila', '1104')\n",
      "(3, 'Amiel', 'Catibay', 'Olongapo', '1225')\n"
     ]
    }
   ],
   "source": [
    "statement = '''SELECT * FROM INSTRUCTOR'''\n",
    "cursor_obj.execute(statement)\n",
    "  \n",
    "print(\"All the data\")\n",
    "output1 = cursor_obj.fetchmany(3)\n",
    "for row in output1:\n",
    "  print(row)"
   ]
  },
  {
   "cell_type": "markdown",
   "id": "efd954e4-b019-4b30-a5d3-6cb0cc3df7b3",
   "metadata": {},
   "source": [
    "## 6. Retrieve data into Pandas\n",
    "In this step I will retrieve the contents of the INSTRUCTOR table into a Pandas dataframe\r\n"
   ]
  },
  {
   "cell_type": "code",
   "execution_count": 25,
   "id": "1184ec6b-e019-47af-895a-5f71208cc0e7",
   "metadata": {},
   "outputs": [
    {
     "data": {
      "text/html": [
       "<div>\n",
       "<style scoped>\n",
       "    .dataframe tbody tr th:only-of-type {\n",
       "        vertical-align: middle;\n",
       "    }\n",
       "\n",
       "    .dataframe tbody tr th {\n",
       "        vertical-align: top;\n",
       "    }\n",
       "\n",
       "    .dataframe thead th {\n",
       "        text-align: right;\n",
       "    }\n",
       "</style>\n",
       "<table border=\"1\" class=\"dataframe\">\n",
       "  <thead>\n",
       "    <tr style=\"text-align: right;\">\n",
       "      <th></th>\n",
       "      <th>ID</th>\n",
       "      <th>FNAME</th>\n",
       "      <th>LNAME</th>\n",
       "      <th>CITY</th>\n",
       "      <th>POSTAL_CODE</th>\n",
       "    </tr>\n",
       "  </thead>\n",
       "  <tbody>\n",
       "    <tr>\n",
       "      <th>0</th>\n",
       "      <td>1</td>\n",
       "      <td>Kliz Andrei</td>\n",
       "      <td>Millares</td>\n",
       "      <td>Taguig</td>\n",
       "      <td>1550</td>\n",
       "    </tr>\n",
       "    <tr>\n",
       "      <th>1</th>\n",
       "      <td>2</td>\n",
       "      <td>Nicole</td>\n",
       "      <td>Duenas</td>\n",
       "      <td>Manila</td>\n",
       "      <td>1104</td>\n",
       "    </tr>\n",
       "    <tr>\n",
       "      <th>2</th>\n",
       "      <td>3</td>\n",
       "      <td>Amiel</td>\n",
       "      <td>Catibay</td>\n",
       "      <td>Olongapo</td>\n",
       "      <td>1225</td>\n",
       "    </tr>\n",
       "    <tr>\n",
       "      <th>3</th>\n",
       "      <td>4</td>\n",
       "      <td>Norman</td>\n",
       "      <td>Santiago</td>\n",
       "      <td>Quezon City</td>\n",
       "      <td>1403</td>\n",
       "    </tr>\n",
       "    <tr>\n",
       "      <th>4</th>\n",
       "      <td>5</td>\n",
       "      <td>Leni</td>\n",
       "      <td>Marcos</td>\n",
       "      <td>Paranaque</td>\n",
       "      <td>1206</td>\n",
       "    </tr>\n",
       "  </tbody>\n",
       "</table>\n",
       "</div>"
      ],
      "text/plain": [
       "   ID        FNAME     LNAME         CITY POSTAL_CODE\n",
       "0   1  Kliz Andrei  Millares       Taguig        1550\n",
       "1   2       Nicole    Duenas       Manila        1104\n",
       "2   3        Amiel   Catibay     Olongapo        1225\n",
       "3   4       Norman  Santiago  Quezon City        1403\n",
       "4   5         Leni    Marcos    Paranaque        1206"
      ]
     },
     "execution_count": 25,
     "metadata": {},
     "output_type": "execute_result"
    }
   ],
   "source": [
    "import pandas as pd\n",
    "#retrieve the query results into a pandas dataframe\n",
    "df = pd.read_sql_query(\"select * from instructor;\", conn)\n",
    "\n",
    "#print the dataframe\n",
    "df"
   ]
  },
  {
   "cell_type": "code",
   "execution_count": 26,
   "id": "e095575d-c09f-4d3a-9e71-ff3e00ad8765",
   "metadata": {},
   "outputs": [
    {
     "data": {
      "text/plain": [
       "'Millares'"
      ]
     },
     "execution_count": 26,
     "metadata": {},
     "output_type": "execute_result"
    }
   ],
   "source": [
    "#print just the LNAME for first row in the pandas data frame\n",
    "df.LNAME[0]"
   ]
  },
  {
   "cell_type": "code",
   "execution_count": 27,
   "id": "5d8753ec-d19c-4e16-bc1e-ed92a7eaf3cf",
   "metadata": {},
   "outputs": [
    {
     "data": {
      "text/plain": [
       "(5, 5)"
      ]
     },
     "execution_count": 27,
     "metadata": {},
     "output_type": "execute_result"
    }
   ],
   "source": [
    "df.shape"
   ]
  },
  {
   "cell_type": "markdown",
   "id": "49bdc556-f4cf-41ee-8451-499aae24153e",
   "metadata": {},
   "source": [
    "## 7. Close the Connection"
   ]
  },
  {
   "cell_type": "code",
   "execution_count": 28,
   "id": "a86e6619-9ede-4fa1-bf38-ef65410162a4",
   "metadata": {},
   "outputs": [],
   "source": [
    "# Close the connection\n",
    "conn.close()"
   ]
  },
  {
   "cell_type": "markdown",
   "id": "2e81a8b5-13f8-4558-9d3d-6897ea820bb3",
   "metadata": {},
   "source": [
    "## Summary\n",
    "\n",
    "In this notebook I created a database & table in Python notebook using SQLite3. Then created a table and insert a few rows of data into it. Then queried the data. I also retrieved the data into a pandas dataframe.\n"
   ]
  },
  {
   "cell_type": "markdown",
   "id": "1a3d3d23-7fce-4ba9-b856-a9fa94011ead",
   "metadata": {},
   "source": [
    "<center><b>Trademark © Kliz John Millares</b></center>"
   ]
  }
 ],
 "metadata": {
  "kernelspec": {
   "display_name": "Python 3 (ipykernel)",
   "language": "python",
   "name": "python3"
  },
  "language_info": {
   "codemirror_mode": {
    "name": "ipython",
    "version": 3
   },
   "file_extension": ".py",
   "mimetype": "text/x-python",
   "name": "python",
   "nbconvert_exporter": "python",
   "pygments_lexer": "ipython3",
   "version": "3.11.7"
  },
  "widgets": {
   "application/vnd.jupyter.widget-state+json": {
    "state": {},
    "version_major": 2,
    "version_minor": 0
   }
  }
 },
 "nbformat": 4,
 "nbformat_minor": 5
}
